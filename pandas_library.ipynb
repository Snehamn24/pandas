{
  "nbformat": 4,
  "nbformat_minor": 0,
  "metadata": {
    "colab": {
      "provenance": [],
      "authorship_tag": "ABX9TyMAqcKXXeLGhOT8UthWF3wl",
      "include_colab_link": true
    },
    "kernelspec": {
      "name": "python3",
      "display_name": "Python 3"
    },
    "language_info": {
      "name": "python"
    }
  },
  "cells": [
    {
      "cell_type": "markdown",
      "metadata": {
        "id": "view-in-github",
        "colab_type": "text"
      },
      "source": [
        "<a href=\"https://colab.research.google.com/github/Snehamn24/pandas/blob/main/pandas_library.ipynb\" target=\"_parent\"><img src=\"https://colab.research.google.com/assets/colab-badge.svg\" alt=\"Open In Colab\"/></a>"
      ]
    },
    {
      "cell_type": "markdown",
      "source": [
        "# Pandas Library"
      ],
      "metadata": {
        "id": "WyZP3KpRja-S"
      }
    },
    {
      "cell_type": "markdown",
      "source": [
        "1 . Loading the data into pandas\n"
      ],
      "metadata": {
        "id": "Gvnluex4j3bx"
      }
    },
    {
      "cell_type": "code",
      "source": [
        "import pandas as pd"
      ],
      "metadata": {
        "id": "RY6pc0DXjhq5"
      },
      "execution_count": 1,
      "outputs": []
    },
    {
      "cell_type": "code",
      "source": [
        "#reading the CSV file as a dataframe\n",
        "df = pd.read_csv(\"/content/athlete_events.csv\")\n",
        "print(df)"
      ],
      "metadata": {
        "colab": {
          "base_uri": "https://localhost:8080/"
        },
        "id": "4bnDmssKkAWa",
        "outputId": "d96f3a81-9ffc-4b5b-c00e-f333aab6cd1b"
      },
      "execution_count": 3,
      "outputs": [
        {
          "output_type": "stream",
          "name": "stdout",
          "text": [
            "            ID                      Name Sex   Age  Height  Weight  \\\n",
            "0            1                 A Dijiang   M  24.0   180.0    80.0   \n",
            "1            2                  A Lamusi   M  23.0   170.0    60.0   \n",
            "2            3       Gunnar Nielsen Aaby   M  24.0     NaN     NaN   \n",
            "3            4      Edgar Lindenau Aabye   M  34.0     NaN     NaN   \n",
            "4            5  Christine Jacoba Aaftink   F  21.0   185.0    82.0   \n",
            "...        ...                       ...  ..   ...     ...     ...   \n",
            "271111  135569                Andrzej ya   M  29.0   179.0    89.0   \n",
            "271112  135570                  Piotr ya   M  27.0   176.0    59.0   \n",
            "271113  135570                  Piotr ya   M  27.0   176.0    59.0   \n",
            "271114  135571        Tomasz Ireneusz ya   M  30.0   185.0    96.0   \n",
            "271115  135571        Tomasz Ireneusz ya   M  34.0   185.0    96.0   \n",
            "\n",
            "                  Team  NOC        Games  Year  Season            City  \\\n",
            "0                China  CHN  1992 Summer  1992  Summer       Barcelona   \n",
            "1                China  CHN  2012 Summer  2012  Summer          London   \n",
            "2              Denmark  DEN  1920 Summer  1920  Summer       Antwerpen   \n",
            "3       Denmark/Sweden  DEN  1900 Summer  1900  Summer           Paris   \n",
            "4          Netherlands  NED  1988 Winter  1988  Winter         Calgary   \n",
            "...                ...  ...          ...   ...     ...             ...   \n",
            "271111        Poland-1  POL  1976 Winter  1976  Winter       Innsbruck   \n",
            "271112          Poland  POL  2014 Winter  2014  Winter           Sochi   \n",
            "271113          Poland  POL  2014 Winter  2014  Winter           Sochi   \n",
            "271114          Poland  POL  1998 Winter  1998  Winter          Nagano   \n",
            "271115          Poland  POL  2002 Winter  2002  Winter  Salt Lake City   \n",
            "\n",
            "                Sport                                     Event Medal  \n",
            "0          Basketball               Basketball Men's Basketball   NaN  \n",
            "1                Judo              Judo Men's Extra-Lightweight   NaN  \n",
            "2            Football                   Football Men's Football   NaN  \n",
            "3          Tug-Of-War               Tug-Of-War Men's Tug-Of-War  Gold  \n",
            "4       Speed Skating          Speed Skating Women's 500 metres   NaN  \n",
            "...               ...                                       ...   ...  \n",
            "271111           Luge                Luge Mixed (Men)'s Doubles   NaN  \n",
            "271112    Ski Jumping  Ski Jumping Men's Large Hill, Individual   NaN  \n",
            "271113    Ski Jumping        Ski Jumping Men's Large Hill, Team   NaN  \n",
            "271114      Bobsleigh                      Bobsleigh Men's Four   NaN  \n",
            "271115      Bobsleigh                      Bobsleigh Men's Four   NaN  \n",
            "\n",
            "[271116 rows x 15 columns]\n"
          ]
        }
      ]
    },
    {
      "cell_type": "code",
      "source": [
        "#To view the 1st 5 rows we can use head()\n",
        "print(df.head())"
      ],
      "metadata": {
        "colab": {
          "base_uri": "https://localhost:8080/"
        },
        "id": "sysapxHjknQm",
        "outputId": "1b3a7613-500f-4587-88a0-e5ec1ec983b0"
      },
      "execution_count": 4,
      "outputs": [
        {
          "output_type": "stream",
          "name": "stdout",
          "text": [
            "   ID                      Name Sex   Age  Height  Weight            Team  \\\n",
            "0   1                 A Dijiang   M  24.0   180.0    80.0           China   \n",
            "1   2                  A Lamusi   M  23.0   170.0    60.0           China   \n",
            "2   3       Gunnar Nielsen Aaby   M  24.0     NaN     NaN         Denmark   \n",
            "3   4      Edgar Lindenau Aabye   M  34.0     NaN     NaN  Denmark/Sweden   \n",
            "4   5  Christine Jacoba Aaftink   F  21.0   185.0    82.0     Netherlands   \n",
            "\n",
            "   NOC        Games  Year  Season       City          Sport  \\\n",
            "0  CHN  1992 Summer  1992  Summer  Barcelona     Basketball   \n",
            "1  CHN  2012 Summer  2012  Summer     London           Judo   \n",
            "2  DEN  1920 Summer  1920  Summer  Antwerpen       Football   \n",
            "3  DEN  1900 Summer  1900  Summer      Paris     Tug-Of-War   \n",
            "4  NED  1988 Winter  1988  Winter    Calgary  Speed Skating   \n",
            "\n",
            "                              Event Medal  \n",
            "0       Basketball Men's Basketball   NaN  \n",
            "1      Judo Men's Extra-Lightweight   NaN  \n",
            "2           Football Men's Football   NaN  \n",
            "3       Tug-Of-War Men's Tug-Of-War  Gold  \n",
            "4  Speed Skating Women's 500 metres   NaN  \n"
          ]
        }
      ]
    },
    {
      "cell_type": "code",
      "source": [
        "#to get the required number of the rows we can pass the number of rows as the parameter to the head()\n",
        "print(df.head(3))"
      ],
      "metadata": {
        "colab": {
          "base_uri": "https://localhost:8080/"
        },
        "id": "Pds7adsnk7Rc",
        "outputId": "b719254b-0438-4a0e-e67a-3520b852b4ec"
      },
      "execution_count": 5,
      "outputs": [
        {
          "output_type": "stream",
          "name": "stdout",
          "text": [
            "   ID                 Name Sex   Age  Height  Weight     Team  NOC  \\\n",
            "0   1            A Dijiang   M  24.0   180.0    80.0    China  CHN   \n",
            "1   2             A Lamusi   M  23.0   170.0    60.0    China  CHN   \n",
            "2   3  Gunnar Nielsen Aaby   M  24.0     NaN     NaN  Denmark  DEN   \n",
            "\n",
            "         Games  Year  Season       City       Sport  \\\n",
            "0  1992 Summer  1992  Summer  Barcelona  Basketball   \n",
            "1  2012 Summer  2012  Summer     London        Judo   \n",
            "2  1920 Summer  1920  Summer  Antwerpen    Football   \n",
            "\n",
            "                          Event Medal  \n",
            "0   Basketball Men's Basketball   NaN  \n",
            "1  Judo Men's Extra-Lightweight   NaN  \n",
            "2       Football Men's Football   NaN  \n"
          ]
        }
      ]
    },
    {
      "cell_type": "code",
      "source": [
        "#Inorder to get the last values we can use the tail()\n",
        "print(df.tail())"
      ],
      "metadata": {
        "colab": {
          "base_uri": "https://localhost:8080/"
        },
        "id": "rEY3QjjllGA5",
        "outputId": "d4cfac34-0ad3-44e4-e9ef-541f9c7a4e3e"
      },
      "execution_count": 6,
      "outputs": [
        {
          "output_type": "stream",
          "name": "stdout",
          "text": [
            "            ID                Name Sex   Age  Height  Weight      Team  NOC  \\\n",
            "271111  135569          Andrzej ya   M  29.0   179.0    89.0  Poland-1  POL   \n",
            "271112  135570            Piotr ya   M  27.0   176.0    59.0    Poland  POL   \n",
            "271113  135570            Piotr ya   M  27.0   176.0    59.0    Poland  POL   \n",
            "271114  135571  Tomasz Ireneusz ya   M  30.0   185.0    96.0    Poland  POL   \n",
            "271115  135571  Tomasz Ireneusz ya   M  34.0   185.0    96.0    Poland  POL   \n",
            "\n",
            "              Games  Year  Season            City        Sport  \\\n",
            "271111  1976 Winter  1976  Winter       Innsbruck         Luge   \n",
            "271112  2014 Winter  2014  Winter           Sochi  Ski Jumping   \n",
            "271113  2014 Winter  2014  Winter           Sochi  Ski Jumping   \n",
            "271114  1998 Winter  1998  Winter          Nagano    Bobsleigh   \n",
            "271115  2002 Winter  2002  Winter  Salt Lake City    Bobsleigh   \n",
            "\n",
            "                                           Event Medal  \n",
            "271111                Luge Mixed (Men)'s Doubles   NaN  \n",
            "271112  Ski Jumping Men's Large Hill, Individual   NaN  \n",
            "271113        Ski Jumping Men's Large Hill, Team   NaN  \n",
            "271114                      Bobsleigh Men's Four   NaN  \n",
            "271115                      Bobsleigh Men's Four   NaN  \n"
          ]
        }
      ]
    },
    {
      "cell_type": "code",
      "source": [
        "print(df.tail(3)) #last 3 values will be printed"
      ],
      "metadata": {
        "colab": {
          "base_uri": "https://localhost:8080/"
        },
        "id": "iHNolI-elNZJ",
        "outputId": "74cc385d-00f6-4efb-dc11-d0ecad875b5b"
      },
      "execution_count": 8,
      "outputs": [
        {
          "output_type": "stream",
          "name": "stdout",
          "text": [
            "            ID                Name Sex   Age  Height  Weight    Team  NOC  \\\n",
            "271113  135570            Piotr ya   M  27.0   176.0    59.0  Poland  POL   \n",
            "271114  135571  Tomasz Ireneusz ya   M  30.0   185.0    96.0  Poland  POL   \n",
            "271115  135571  Tomasz Ireneusz ya   M  34.0   185.0    96.0  Poland  POL   \n",
            "\n",
            "              Games  Year  Season            City        Sport  \\\n",
            "271113  2014 Winter  2014  Winter           Sochi  Ski Jumping   \n",
            "271114  1998 Winter  1998  Winter          Nagano    Bobsleigh   \n",
            "271115  2002 Winter  2002  Winter  Salt Lake City    Bobsleigh   \n",
            "\n",
            "                                     Event Medal  \n",
            "271113  Ski Jumping Men's Large Hill, Team   NaN  \n",
            "271114                Bobsleigh Men's Four   NaN  \n",
            "271115                Bobsleigh Men's Four   NaN  \n"
          ]
        }
      ]
    },
    {
      "cell_type": "markdown",
      "source": [
        "# Creating our own data frame"
      ],
      "metadata": {
        "id": "7BdNOi06lwN-"
      }
    },
    {
      "cell_type": "code",
      "source": [
        "new_data = {\n",
        "    'name' : [\"Harry\",\"Ron\",\"Hermonie\",\"Cedric\",\"ginny\",\"Draco\",\"Cho\"],\n",
        "    'house' : [\"Gryffindor\",\"Gryffindor\",\"Gryffindor\",\"Hufflepuff\",\"Gryffindor\",\"Slytherin\",\"Ravenclaw\"]\n",
        "}\n",
        "df1 = pd.DataFrame(new_data)"
      ],
      "metadata": {
        "id": "o8e1shgPlQt0"
      },
      "execution_count": 13,
      "outputs": []
    },
    {
      "cell_type": "code",
      "source": [
        "print(df1)"
      ],
      "metadata": {
        "colab": {
          "base_uri": "https://localhost:8080/"
        },
        "id": "AVtqaK0noB7B",
        "outputId": "ec05e119-ea7b-44ed-c630-d2d19c6aec27"
      },
      "execution_count": 14,
      "outputs": [
        {
          "output_type": "stream",
          "name": "stdout",
          "text": [
            "       name       house\n",
            "0     Harry  Gryffindor\n",
            "1       Ron  Gryffindor\n",
            "2  Hermonie  Gryffindor\n",
            "3    Cedric  Hufflepuff\n",
            "4     ginny  Gryffindor\n",
            "5     Draco   Slytherin\n",
            "6       Cho   Ravenclaw\n"
          ]
        }
      ]
    },
    {
      "cell_type": "code",
      "source": [
        "#importing the Harry Potter dataset\n",
        "\n",
        "df2 = pd.read_csv(\"/content/Harry_potter.csv\",sep=\";\")\n",
        "print(df2)"
      ],
      "metadata": {
        "colab": {
          "base_uri": "https://localhost:8080/"
        },
        "id": "Qb1mUg4Uo2Lt",
        "outputId": "677df944-3a7c-4c84-e752-c6a9e3066818"
      },
      "execution_count": 16,
      "outputs": [
        {
          "output_type": "stream",
          "name": "stdout",
          "text": [
            "      Id                                     Name  Gender  \\\n",
            "0      1                       Harry James Potter    Male   \n",
            "1      2                    Ronald Bilius Weasley    Male   \n",
            "2      3                    Hermione Jean Granger  Female   \n",
            "3      4  Albus Percival Wulfric Brian Dumbledore    Male   \n",
            "4      5                            Rubeus Hagrid    Male   \n",
            "..   ...                                      ...     ...   \n",
            "135  136                 Wilhelmina Grubbly-Plank  Female   \n",
            "136  137                          Fenrir Greyback    Male   \n",
            "137  138                      Gellert Grindelwald    Male   \n",
            "138  139                                    Dobby    Male   \n",
            "139  140                                 Kreacher    Male   \n",
            "\n",
            "                                                   Job       House  \\\n",
            "0                                              Student  Gryffindor   \n",
            "1                                              Student  Gryffindor   \n",
            "2                                              Student  Gryffindor   \n",
            "3                                           Headmaster  Gryffindor   \n",
            "4    Keeper of Keys and Grounds | Professor of Care...  Gryffindor   \n",
            "..                                                 ...         ...   \n",
            "135  Substitute professor of Care of Magical Creatu...         NaN   \n",
            "136                                                NaN         NaN   \n",
            "137           Revolutionary leader(c. 1920s[6] – 1945)         NaN   \n",
            "138  Malfoy family's house-elf (? - 1993),\\nHogwart...         NaN   \n",
            "139  \\nBlack family's house-elf (?-1996), \\nHarry P...         NaN   \n",
            "\n",
            "                                    Wand              Patronus  \\\n",
            "0            11\"  Holly  phoenix feather                  Stag   \n",
            "1             12\" Ash unicorn tail hair   Jack Russell terrier   \n",
            "2     10¾\"  vine wood dragon heartstring                 Otter   \n",
            "3      15\" Elder Thestral tail hair core               Phoenix   \n",
            "4                  16\"  Oak unknown core                   NaN   \n",
            "..                                   ...                   ...   \n",
            "135                              Unknown         Non-corporeal   \n",
            "136                              Unknown                   NaN   \n",
            "137  15\", Elder, Thestral tail hair core                   NaN   \n",
            "138                                  NaN                   NaN   \n",
            "139                                  NaN                   NaN   \n",
            "\n",
            "                   Species              Blood status              Hair colour  \\\n",
            "0                    Human                Half-blood                    Black   \n",
            "1                    Human                Pure-blood                      Red   \n",
            "2                    Human               Muggle-born                    Brown   \n",
            "3                    Human                Half-blood  Silver| formerly auburn   \n",
            "4    Half-Human/Half-Giant   Part-Human (Half-giant)                    Black   \n",
            "..                     ...                       ...                      ...   \n",
            "135                 Human                        NaN                     Grey   \n",
            "136               Werewolf                       NaN                     Grey   \n",
            "137                 Human   Pure-blood or half-blood                    Blond   \n",
            "138              House elf                       NaN                    Green   \n",
            "139              House elf                       NaN                    White   \n",
            "\n",
            "       Eye colour                                            Loyalty  \\\n",
            "0    Bright green  Albus Dumbledore | Dumbledore's Army | Order o...   \n",
            "1            Blue  Dumbledore's Army | Order of the Phoenix | Hog...   \n",
            "2           Brown  Dumbledore's Army | Order of the Phoenix | Hog...   \n",
            "3            Blue  Dumbledore's Army | Order of the Phoenix | Hog...   \n",
            "4           Black  Albus Dumbledore | Order of the Phoenix | Hogw...   \n",
            "..            ...                                                ...   \n",
            "135           NaN         Hogwarts School of Witchcraft and Wizardry   \n",
            "136           NaN                     Lord Voldemort  | Death Eaters   \n",
            "137          Blue                     Gellert Grindelwald's Acolytes   \n",
            "138           NaN                                                NaN   \n",
            "139           NaN                                                NaN   \n",
            "\n",
            "                                                Skills               Birth  \\\n",
            "0    Parseltongue| Defence Against the Dark Arts | ...        31 July 1980   \n",
            "1                 Wizard chess | Quidditch goalkeeping        1 March 1980   \n",
            "2                                    Almost everything  19 September, 1979   \n",
            "3    Considered by many to be one of the most power...    Late August 1881   \n",
            "4    Resistant to stunning spells| above average st...     6 December 1928   \n",
            "..                                                 ...                 ...   \n",
            "135                                                NaN                 NaN   \n",
            "136                                    Physical combat            Pre 1945   \n",
            "137                                           Duelling                1883   \n",
            "138  A type of magic specific to house-elves, perfo...             28 June   \n",
            "139  Magic performed without a wand which includes ...                 NaN   \n",
            "\n",
            "                Death  \n",
            "0                 NaN  \n",
            "1                 NaN  \n",
            "2                 NaN  \n",
            "3      30 June, 1997   \n",
            "4                 NaN  \n",
            "..                ...  \n",
            "135               NaN  \n",
            "136               NaN  \n",
            "137       March, 1998  \n",
            "138  Late March, 1998  \n",
            "139               NaN  \n",
            "\n",
            "[140 rows x 15 columns]\n"
          ]
        }
      ]
    },
    {
      "cell_type": "code",
      "source": [
        "print(df2.head())"
      ],
      "metadata": {
        "colab": {
          "base_uri": "https://localhost:8080/"
        },
        "id": "E32PpeGppt57",
        "outputId": "f7cf519f-3e65-4d59-8e41-fa5406eb4436"
      },
      "execution_count": 17,
      "outputs": [
        {
          "output_type": "stream",
          "name": "stdout",
          "text": [
            "   Id                                     Name  Gender  \\\n",
            "0   1                       Harry James Potter    Male   \n",
            "1   2                    Ronald Bilius Weasley    Male   \n",
            "2   3                    Hermione Jean Granger  Female   \n",
            "3   4  Albus Percival Wulfric Brian Dumbledore    Male   \n",
            "4   5                            Rubeus Hagrid    Male   \n",
            "\n",
            "                                                 Job       House  \\\n",
            "0                                            Student  Gryffindor   \n",
            "1                                            Student  Gryffindor   \n",
            "2                                            Student  Gryffindor   \n",
            "3                                         Headmaster  Gryffindor   \n",
            "4  Keeper of Keys and Grounds | Professor of Care...  Gryffindor   \n",
            "\n",
            "                                 Wand              Patronus  \\\n",
            "0         11\"  Holly  phoenix feather                  Stag   \n",
            "1          12\" Ash unicorn tail hair   Jack Russell terrier   \n",
            "2  10¾\"  vine wood dragon heartstring                 Otter   \n",
            "3   15\" Elder Thestral tail hair core               Phoenix   \n",
            "4               16\"  Oak unknown core                   NaN   \n",
            "\n",
            "                 Species             Blood status              Hair colour  \\\n",
            "0                  Human               Half-blood                    Black   \n",
            "1                  Human               Pure-blood                      Red   \n",
            "2                  Human              Muggle-born                    Brown   \n",
            "3                  Human               Half-blood  Silver| formerly auburn   \n",
            "4  Half-Human/Half-Giant  Part-Human (Half-giant)                    Black   \n",
            "\n",
            "     Eye colour                                            Loyalty  \\\n",
            "0  Bright green  Albus Dumbledore | Dumbledore's Army | Order o...   \n",
            "1          Blue  Dumbledore's Army | Order of the Phoenix | Hog...   \n",
            "2         Brown  Dumbledore's Army | Order of the Phoenix | Hog...   \n",
            "3          Blue  Dumbledore's Army | Order of the Phoenix | Hog...   \n",
            "4         Black  Albus Dumbledore | Order of the Phoenix | Hogw...   \n",
            "\n",
            "                                              Skills               Birth  \\\n",
            "0  Parseltongue| Defence Against the Dark Arts | ...        31 July 1980   \n",
            "1               Wizard chess | Quidditch goalkeeping        1 March 1980   \n",
            "2                                  Almost everything  19 September, 1979   \n",
            "3  Considered by many to be one of the most power...    Late August 1881   \n",
            "4  Resistant to stunning spells| above average st...     6 December 1928   \n",
            "\n",
            "            Death  \n",
            "0             NaN  \n",
            "1             NaN  \n",
            "2             NaN  \n",
            "3  30 June, 1997   \n",
            "4             NaN  \n"
          ]
        }
      ]
    },
    {
      "cell_type": "code",
      "source": [
        "# sample method will display some rows randomly\n",
        "print(df.sample(2))"
      ],
      "metadata": {
        "colab": {
          "base_uri": "https://localhost:8080/"
        },
        "id": "S4eEUBQ_r7Zc",
        "outputId": "465eeee4-46e7-463d-fd36-4696034f6111"
      },
      "execution_count": 18,
      "outputs": [
        {
          "output_type": "stream",
          "name": "stdout",
          "text": [
            "            ID               Name Sex   Age  Height  Weight     Team  NOC  \\\n",
            "23041    12112    Geert Blanchart   M  25.0   180.0    74.0  Belgium  BEL   \n",
            "199808  100364  Jwani Riad Noseir   M  23.0     NaN     NaN    Egypt  EGY   \n",
            "\n",
            "              Games  Year  Season         City                      Sport  \\\n",
            "23041   1992 Winter  1992  Winter  Albertville  Short Track Speed Skating   \n",
            "199808  1936 Summer  1936  Summer       Berlin                 Basketball   \n",
            "\n",
            "                                               Event Medal  \n",
            "23041   Short Track Speed Skating Men's 1,000 metres   NaN  \n",
            "199808                   Basketball Men's Basketball   NaN  \n"
          ]
        }
      ]
    },
    {
      "cell_type": "code",
      "source": [
        "#converting the given file into the proper CSV file\n",
        "df2.to_csv(\"/content/Harry_potter.csv\",index=False)"
      ],
      "metadata": {
        "id": "ISlQxvB-sUvE"
      },
      "execution_count": 24,
      "outputs": []
    },
    {
      "cell_type": "code",
      "source": [
        "df2 = pd.read_csv(\"/content/Harry_potter.csv\")\n",
        "print(df2.head())"
      ],
      "metadata": {
        "colab": {
          "base_uri": "https://localhost:8080/"
        },
        "id": "oCCbLvrZtQTf",
        "outputId": "1146c8be-4a18-4486-d38d-286d65256255"
      },
      "execution_count": 25,
      "outputs": [
        {
          "output_type": "stream",
          "name": "stdout",
          "text": [
            "   Id                                     Name  Gender  \\\n",
            "0   1                       Harry James Potter    Male   \n",
            "1   2                    Ronald Bilius Weasley    Male   \n",
            "2   3                    Hermione Jean Granger  Female   \n",
            "3   4  Albus Percival Wulfric Brian Dumbledore    Male   \n",
            "4   5                            Rubeus Hagrid    Male   \n",
            "\n",
            "                                                 Job       House  \\\n",
            "0                                            Student  Gryffindor   \n",
            "1                                            Student  Gryffindor   \n",
            "2                                            Student  Gryffindor   \n",
            "3                                         Headmaster  Gryffindor   \n",
            "4  Keeper of Keys and Grounds | Professor of Care...  Gryffindor   \n",
            "\n",
            "                                 Wand              Patronus  \\\n",
            "0         11\"  Holly  phoenix feather                  Stag   \n",
            "1          12\" Ash unicorn tail hair   Jack Russell terrier   \n",
            "2  10¾\"  vine wood dragon heartstring                 Otter   \n",
            "3   15\" Elder Thestral tail hair core               Phoenix   \n",
            "4               16\"  Oak unknown core                   NaN   \n",
            "\n",
            "                 Species             Blood status              Hair colour  \\\n",
            "0                  Human               Half-blood                    Black   \n",
            "1                  Human               Pure-blood                      Red   \n",
            "2                  Human              Muggle-born                    Brown   \n",
            "3                  Human               Half-blood  Silver| formerly auburn   \n",
            "4  Half-Human/Half-Giant  Part-Human (Half-giant)                    Black   \n",
            "\n",
            "     Eye colour                                            Loyalty  \\\n",
            "0  Bright green  Albus Dumbledore | Dumbledore's Army | Order o...   \n",
            "1          Blue  Dumbledore's Army | Order of the Phoenix | Hog...   \n",
            "2         Brown  Dumbledore's Army | Order of the Phoenix | Hog...   \n",
            "3          Blue  Dumbledore's Army | Order of the Phoenix | Hog...   \n",
            "4         Black  Albus Dumbledore | Order of the Phoenix | Hogw...   \n",
            "\n",
            "                                              Skills               Birth  \\\n",
            "0  Parseltongue| Defence Against the Dark Arts | ...        31 July 1980   \n",
            "1               Wizard chess | Quidditch goalkeeping        1 March 1980   \n",
            "2                                  Almost everything  19 September, 1979   \n",
            "3  Considered by many to be one of the most power...    Late August 1881   \n",
            "4  Resistant to stunning spells| above average st...     6 December 1928   \n",
            "\n",
            "            Death  \n",
            "0             NaN  \n",
            "1             NaN  \n",
            "2             NaN  \n",
            "3  30 June, 1997   \n",
            "4             NaN  \n"
          ]
        }
      ]
    },
    {
      "cell_type": "code",
      "source": [
        "print(df2.columns)#as we have converted to the proper csv file we need to get the columns value as comma separated"
      ],
      "metadata": {
        "colab": {
          "base_uri": "https://localhost:8080/"
        },
        "id": "wfs4qCTatS7m",
        "outputId": "38ffa6cb-5ac4-4ea6-e4d4-8098cb65bfc1"
      },
      "execution_count": 27,
      "outputs": [
        {
          "output_type": "stream",
          "name": "stdout",
          "text": [
            "Index(['Id', 'Name', 'Gender', 'Job', 'House', 'Wand', 'Patronus', 'Species',\n",
            "       'Blood status', 'Hair colour', 'Eye colour', 'Loyalty', 'Skills',\n",
            "       'Birth', 'Death'],\n",
            "      dtype='object')\n"
          ]
        }
      ]
    },
    {
      "cell_type": "code",
      "source": [
        "df2 = pd.read_csv(\"/content/Harry_potter.csv\")\n"
      ],
      "metadata": {
        "id": "aE9qZmpFuFql"
      },
      "execution_count": 28,
      "outputs": []
    },
    {
      "cell_type": "code",
      "source": [
        "df2.head()"
      ],
      "metadata": {
        "colab": {
          "base_uri": "https://localhost:8080/",
          "height": 501
        },
        "id": "RKkvla3ZuR4m",
        "outputId": "a2f74001-c964-4752-f390-25acacaa08ab"
      },
      "execution_count": 29,
      "outputs": [
        {
          "output_type": "execute_result",
          "data": {
            "text/plain": [
              "   Id                                     Name  Gender  \\\n",
              "0   1                       Harry James Potter    Male   \n",
              "1   2                    Ronald Bilius Weasley    Male   \n",
              "2   3                    Hermione Jean Granger  Female   \n",
              "3   4  Albus Percival Wulfric Brian Dumbledore    Male   \n",
              "4   5                            Rubeus Hagrid    Male   \n",
              "\n",
              "                                                 Job       House  \\\n",
              "0                                            Student  Gryffindor   \n",
              "1                                            Student  Gryffindor   \n",
              "2                                            Student  Gryffindor   \n",
              "3                                         Headmaster  Gryffindor   \n",
              "4  Keeper of Keys and Grounds | Professor of Care...  Gryffindor   \n",
              "\n",
              "                                 Wand              Patronus  \\\n",
              "0         11\"  Holly  phoenix feather                  Stag   \n",
              "1          12\" Ash unicorn tail hair   Jack Russell terrier   \n",
              "2  10¾\"  vine wood dragon heartstring                 Otter   \n",
              "3   15\" Elder Thestral tail hair core               Phoenix   \n",
              "4               16\"  Oak unknown core                   NaN   \n",
              "\n",
              "                 Species             Blood status              Hair colour  \\\n",
              "0                  Human               Half-blood                    Black   \n",
              "1                  Human               Pure-blood                      Red   \n",
              "2                  Human              Muggle-born                    Brown   \n",
              "3                  Human               Half-blood  Silver| formerly auburn   \n",
              "4  Half-Human/Half-Giant  Part-Human (Half-giant)                    Black   \n",
              "\n",
              "     Eye colour                                            Loyalty  \\\n",
              "0  Bright green  Albus Dumbledore | Dumbledore's Army | Order o...   \n",
              "1          Blue  Dumbledore's Army | Order of the Phoenix | Hog...   \n",
              "2         Brown  Dumbledore's Army | Order of the Phoenix | Hog...   \n",
              "3          Blue  Dumbledore's Army | Order of the Phoenix | Hog...   \n",
              "4         Black  Albus Dumbledore | Order of the Phoenix | Hogw...   \n",
              "\n",
              "                                              Skills               Birth  \\\n",
              "0  Parseltongue| Defence Against the Dark Arts | ...        31 July 1980   \n",
              "1               Wizard chess | Quidditch goalkeeping        1 March 1980   \n",
              "2                                  Almost everything  19 September, 1979   \n",
              "3  Considered by many to be one of the most power...    Late August 1881   \n",
              "4  Resistant to stunning spells| above average st...     6 December 1928   \n",
              "\n",
              "            Death  \n",
              "0             NaN  \n",
              "1             NaN  \n",
              "2             NaN  \n",
              "3  30 June, 1997   \n",
              "4             NaN  "
            ],
            "text/html": [
              "\n",
              "  <div id=\"df-26a3f2e3-55d6-46c7-a277-01345902e09e\" class=\"colab-df-container\">\n",
              "    <div>\n",
              "<style scoped>\n",
              "    .dataframe tbody tr th:only-of-type {\n",
              "        vertical-align: middle;\n",
              "    }\n",
              "\n",
              "    .dataframe tbody tr th {\n",
              "        vertical-align: top;\n",
              "    }\n",
              "\n",
              "    .dataframe thead th {\n",
              "        text-align: right;\n",
              "    }\n",
              "</style>\n",
              "<table border=\"1\" class=\"dataframe\">\n",
              "  <thead>\n",
              "    <tr style=\"text-align: right;\">\n",
              "      <th></th>\n",
              "      <th>Id</th>\n",
              "      <th>Name</th>\n",
              "      <th>Gender</th>\n",
              "      <th>Job</th>\n",
              "      <th>House</th>\n",
              "      <th>Wand</th>\n",
              "      <th>Patronus</th>\n",
              "      <th>Species</th>\n",
              "      <th>Blood status</th>\n",
              "      <th>Hair colour</th>\n",
              "      <th>Eye colour</th>\n",
              "      <th>Loyalty</th>\n",
              "      <th>Skills</th>\n",
              "      <th>Birth</th>\n",
              "      <th>Death</th>\n",
              "    </tr>\n",
              "  </thead>\n",
              "  <tbody>\n",
              "    <tr>\n",
              "      <th>0</th>\n",
              "      <td>1</td>\n",
              "      <td>Harry James Potter</td>\n",
              "      <td>Male</td>\n",
              "      <td>Student</td>\n",
              "      <td>Gryffindor</td>\n",
              "      <td>11\"  Holly  phoenix feather</td>\n",
              "      <td>Stag</td>\n",
              "      <td>Human</td>\n",
              "      <td>Half-blood</td>\n",
              "      <td>Black</td>\n",
              "      <td>Bright green</td>\n",
              "      <td>Albus Dumbledore | Dumbledore's Army | Order o...</td>\n",
              "      <td>Parseltongue| Defence Against the Dark Arts | ...</td>\n",
              "      <td>31 July 1980</td>\n",
              "      <td>NaN</td>\n",
              "    </tr>\n",
              "    <tr>\n",
              "      <th>1</th>\n",
              "      <td>2</td>\n",
              "      <td>Ronald Bilius Weasley</td>\n",
              "      <td>Male</td>\n",
              "      <td>Student</td>\n",
              "      <td>Gryffindor</td>\n",
              "      <td>12\" Ash unicorn tail hair</td>\n",
              "      <td>Jack Russell terrier</td>\n",
              "      <td>Human</td>\n",
              "      <td>Pure-blood</td>\n",
              "      <td>Red</td>\n",
              "      <td>Blue</td>\n",
              "      <td>Dumbledore's Army | Order of the Phoenix | Hog...</td>\n",
              "      <td>Wizard chess | Quidditch goalkeeping</td>\n",
              "      <td>1 March 1980</td>\n",
              "      <td>NaN</td>\n",
              "    </tr>\n",
              "    <tr>\n",
              "      <th>2</th>\n",
              "      <td>3</td>\n",
              "      <td>Hermione Jean Granger</td>\n",
              "      <td>Female</td>\n",
              "      <td>Student</td>\n",
              "      <td>Gryffindor</td>\n",
              "      <td>10¾\"  vine wood dragon heartstring</td>\n",
              "      <td>Otter</td>\n",
              "      <td>Human</td>\n",
              "      <td>Muggle-born</td>\n",
              "      <td>Brown</td>\n",
              "      <td>Brown</td>\n",
              "      <td>Dumbledore's Army | Order of the Phoenix | Hog...</td>\n",
              "      <td>Almost everything</td>\n",
              "      <td>19 September, 1979</td>\n",
              "      <td>NaN</td>\n",
              "    </tr>\n",
              "    <tr>\n",
              "      <th>3</th>\n",
              "      <td>4</td>\n",
              "      <td>Albus Percival Wulfric Brian Dumbledore</td>\n",
              "      <td>Male</td>\n",
              "      <td>Headmaster</td>\n",
              "      <td>Gryffindor</td>\n",
              "      <td>15\" Elder Thestral tail hair core</td>\n",
              "      <td>Phoenix</td>\n",
              "      <td>Human</td>\n",
              "      <td>Half-blood</td>\n",
              "      <td>Silver| formerly auburn</td>\n",
              "      <td>Blue</td>\n",
              "      <td>Dumbledore's Army | Order of the Phoenix | Hog...</td>\n",
              "      <td>Considered by many to be one of the most power...</td>\n",
              "      <td>Late August 1881</td>\n",
              "      <td>30 June, 1997</td>\n",
              "    </tr>\n",
              "    <tr>\n",
              "      <th>4</th>\n",
              "      <td>5</td>\n",
              "      <td>Rubeus Hagrid</td>\n",
              "      <td>Male</td>\n",
              "      <td>Keeper of Keys and Grounds | Professor of Care...</td>\n",
              "      <td>Gryffindor</td>\n",
              "      <td>16\"  Oak unknown core</td>\n",
              "      <td>NaN</td>\n",
              "      <td>Half-Human/Half-Giant</td>\n",
              "      <td>Part-Human (Half-giant)</td>\n",
              "      <td>Black</td>\n",
              "      <td>Black</td>\n",
              "      <td>Albus Dumbledore | Order of the Phoenix | Hogw...</td>\n",
              "      <td>Resistant to stunning spells| above average st...</td>\n",
              "      <td>6 December 1928</td>\n",
              "      <td>NaN</td>\n",
              "    </tr>\n",
              "  </tbody>\n",
              "</table>\n",
              "</div>\n",
              "    <div class=\"colab-df-buttons\">\n",
              "\n",
              "  <div class=\"colab-df-container\">\n",
              "    <button class=\"colab-df-convert\" onclick=\"convertToInteractive('df-26a3f2e3-55d6-46c7-a277-01345902e09e')\"\n",
              "            title=\"Convert this dataframe to an interactive table.\"\n",
              "            style=\"display:none;\">\n",
              "\n",
              "  <svg xmlns=\"http://www.w3.org/2000/svg\" height=\"24px\" viewBox=\"0 -960 960 960\">\n",
              "    <path d=\"M120-120v-720h720v720H120Zm60-500h600v-160H180v160Zm220 220h160v-160H400v160Zm0 220h160v-160H400v160ZM180-400h160v-160H180v160Zm440 0h160v-160H620v160ZM180-180h160v-160H180v160Zm440 0h160v-160H620v160Z\"/>\n",
              "  </svg>\n",
              "    </button>\n",
              "\n",
              "  <style>\n",
              "    .colab-df-container {\n",
              "      display:flex;\n",
              "      gap: 12px;\n",
              "    }\n",
              "\n",
              "    .colab-df-convert {\n",
              "      background-color: #E8F0FE;\n",
              "      border: none;\n",
              "      border-radius: 50%;\n",
              "      cursor: pointer;\n",
              "      display: none;\n",
              "      fill: #1967D2;\n",
              "      height: 32px;\n",
              "      padding: 0 0 0 0;\n",
              "      width: 32px;\n",
              "    }\n",
              "\n",
              "    .colab-df-convert:hover {\n",
              "      background-color: #E2EBFA;\n",
              "      box-shadow: 0px 1px 2px rgba(60, 64, 67, 0.3), 0px 1px 3px 1px rgba(60, 64, 67, 0.15);\n",
              "      fill: #174EA6;\n",
              "    }\n",
              "\n",
              "    .colab-df-buttons div {\n",
              "      margin-bottom: 4px;\n",
              "    }\n",
              "\n",
              "    [theme=dark] .colab-df-convert {\n",
              "      background-color: #3B4455;\n",
              "      fill: #D2E3FC;\n",
              "    }\n",
              "\n",
              "    [theme=dark] .colab-df-convert:hover {\n",
              "      background-color: #434B5C;\n",
              "      box-shadow: 0px 1px 3px 1px rgba(0, 0, 0, 0.15);\n",
              "      filter: drop-shadow(0px 1px 2px rgba(0, 0, 0, 0.3));\n",
              "      fill: #FFFFFF;\n",
              "    }\n",
              "  </style>\n",
              "\n",
              "    <script>\n",
              "      const buttonEl =\n",
              "        document.querySelector('#df-26a3f2e3-55d6-46c7-a277-01345902e09e button.colab-df-convert');\n",
              "      buttonEl.style.display =\n",
              "        google.colab.kernel.accessAllowed ? 'block' : 'none';\n",
              "\n",
              "      async function convertToInteractive(key) {\n",
              "        const element = document.querySelector('#df-26a3f2e3-55d6-46c7-a277-01345902e09e');\n",
              "        const dataTable =\n",
              "          await google.colab.kernel.invokeFunction('convertToInteractive',\n",
              "                                                    [key], {});\n",
              "        if (!dataTable) return;\n",
              "\n",
              "        const docLinkHtml = 'Like what you see? Visit the ' +\n",
              "          '<a target=\"_blank\" href=https://colab.research.google.com/notebooks/data_table.ipynb>data table notebook</a>'\n",
              "          + ' to learn more about interactive tables.';\n",
              "        element.innerHTML = '';\n",
              "        dataTable['output_type'] = 'display_data';\n",
              "        await google.colab.output.renderOutput(dataTable, element);\n",
              "        const docLink = document.createElement('div');\n",
              "        docLink.innerHTML = docLinkHtml;\n",
              "        element.appendChild(docLink);\n",
              "      }\n",
              "    </script>\n",
              "  </div>\n",
              "\n",
              "\n",
              "    <div id=\"df-f6aee55c-b46a-40d3-b6ec-9249232f8f56\">\n",
              "      <button class=\"colab-df-quickchart\" onclick=\"quickchart('df-f6aee55c-b46a-40d3-b6ec-9249232f8f56')\"\n",
              "                title=\"Suggest charts\"\n",
              "                style=\"display:none;\">\n",
              "\n",
              "<svg xmlns=\"http://www.w3.org/2000/svg\" height=\"24px\"viewBox=\"0 0 24 24\"\n",
              "     width=\"24px\">\n",
              "    <g>\n",
              "        <path d=\"M19 3H5c-1.1 0-2 .9-2 2v14c0 1.1.9 2 2 2h14c1.1 0 2-.9 2-2V5c0-1.1-.9-2-2-2zM9 17H7v-7h2v7zm4 0h-2V7h2v10zm4 0h-2v-4h2v4z\"/>\n",
              "    </g>\n",
              "</svg>\n",
              "      </button>\n",
              "\n",
              "<style>\n",
              "  .colab-df-quickchart {\n",
              "      --bg-color: #E8F0FE;\n",
              "      --fill-color: #1967D2;\n",
              "      --hover-bg-color: #E2EBFA;\n",
              "      --hover-fill-color: #174EA6;\n",
              "      --disabled-fill-color: #AAA;\n",
              "      --disabled-bg-color: #DDD;\n",
              "  }\n",
              "\n",
              "  [theme=dark] .colab-df-quickchart {\n",
              "      --bg-color: #3B4455;\n",
              "      --fill-color: #D2E3FC;\n",
              "      --hover-bg-color: #434B5C;\n",
              "      --hover-fill-color: #FFFFFF;\n",
              "      --disabled-bg-color: #3B4455;\n",
              "      --disabled-fill-color: #666;\n",
              "  }\n",
              "\n",
              "  .colab-df-quickchart {\n",
              "    background-color: var(--bg-color);\n",
              "    border: none;\n",
              "    border-radius: 50%;\n",
              "    cursor: pointer;\n",
              "    display: none;\n",
              "    fill: var(--fill-color);\n",
              "    height: 32px;\n",
              "    padding: 0;\n",
              "    width: 32px;\n",
              "  }\n",
              "\n",
              "  .colab-df-quickchart:hover {\n",
              "    background-color: var(--hover-bg-color);\n",
              "    box-shadow: 0 1px 2px rgba(60, 64, 67, 0.3), 0 1px 3px 1px rgba(60, 64, 67, 0.15);\n",
              "    fill: var(--button-hover-fill-color);\n",
              "  }\n",
              "\n",
              "  .colab-df-quickchart-complete:disabled,\n",
              "  .colab-df-quickchart-complete:disabled:hover {\n",
              "    background-color: var(--disabled-bg-color);\n",
              "    fill: var(--disabled-fill-color);\n",
              "    box-shadow: none;\n",
              "  }\n",
              "\n",
              "  .colab-df-spinner {\n",
              "    border: 2px solid var(--fill-color);\n",
              "    border-color: transparent;\n",
              "    border-bottom-color: var(--fill-color);\n",
              "    animation:\n",
              "      spin 1s steps(1) infinite;\n",
              "  }\n",
              "\n",
              "  @keyframes spin {\n",
              "    0% {\n",
              "      border-color: transparent;\n",
              "      border-bottom-color: var(--fill-color);\n",
              "      border-left-color: var(--fill-color);\n",
              "    }\n",
              "    20% {\n",
              "      border-color: transparent;\n",
              "      border-left-color: var(--fill-color);\n",
              "      border-top-color: var(--fill-color);\n",
              "    }\n",
              "    30% {\n",
              "      border-color: transparent;\n",
              "      border-left-color: var(--fill-color);\n",
              "      border-top-color: var(--fill-color);\n",
              "      border-right-color: var(--fill-color);\n",
              "    }\n",
              "    40% {\n",
              "      border-color: transparent;\n",
              "      border-right-color: var(--fill-color);\n",
              "      border-top-color: var(--fill-color);\n",
              "    }\n",
              "    60% {\n",
              "      border-color: transparent;\n",
              "      border-right-color: var(--fill-color);\n",
              "    }\n",
              "    80% {\n",
              "      border-color: transparent;\n",
              "      border-right-color: var(--fill-color);\n",
              "      border-bottom-color: var(--fill-color);\n",
              "    }\n",
              "    90% {\n",
              "      border-color: transparent;\n",
              "      border-bottom-color: var(--fill-color);\n",
              "    }\n",
              "  }\n",
              "</style>\n",
              "\n",
              "      <script>\n",
              "        async function quickchart(key) {\n",
              "          const quickchartButtonEl =\n",
              "            document.querySelector('#' + key + ' button');\n",
              "          quickchartButtonEl.disabled = true;  // To prevent multiple clicks.\n",
              "          quickchartButtonEl.classList.add('colab-df-spinner');\n",
              "          try {\n",
              "            const charts = await google.colab.kernel.invokeFunction(\n",
              "                'suggestCharts', [key], {});\n",
              "          } catch (error) {\n",
              "            console.error('Error during call to suggestCharts:', error);\n",
              "          }\n",
              "          quickchartButtonEl.classList.remove('colab-df-spinner');\n",
              "          quickchartButtonEl.classList.add('colab-df-quickchart-complete');\n",
              "        }\n",
              "        (() => {\n",
              "          let quickchartButtonEl =\n",
              "            document.querySelector('#df-f6aee55c-b46a-40d3-b6ec-9249232f8f56 button');\n",
              "          quickchartButtonEl.style.display =\n",
              "            google.colab.kernel.accessAllowed ? 'block' : 'none';\n",
              "        })();\n",
              "      </script>\n",
              "    </div>\n",
              "\n",
              "    </div>\n",
              "  </div>\n"
            ],
            "application/vnd.google.colaboratory.intrinsic+json": {
              "type": "dataframe",
              "variable_name": "df2",
              "summary": "{\n  \"name\": \"df2\",\n  \"rows\": 140,\n  \"fields\": [\n    {\n      \"column\": \"Id\",\n      \"properties\": {\n        \"dtype\": \"number\",\n        \"std\": 40,\n        \"min\": 1,\n        \"max\": 140,\n        \"num_unique_values\": 140,\n        \"samples\": [\n          109,\n          68,\n          32\n        ],\n        \"semantic_type\": \"\",\n        \"description\": \"\"\n      }\n    },\n    {\n      \"column\": \"Name\",\n      \"properties\": {\n        \"dtype\": \"string\",\n        \"num_unique_values\": 140,\n        \"samples\": [\n          \"Hestia Jones\",\n          \"Salazar Slytherin\",\n          \"Arthur Weasley\"\n        ],\n        \"semantic_type\": \"\",\n        \"description\": \"\"\n      }\n    },\n    {\n      \"column\": \"Gender\",\n      \"properties\": {\n        \"dtype\": \"category\",\n        \"num_unique_values\": 2,\n        \"samples\": [\n          \"Female\",\n          \"Male\"\n        ],\n        \"semantic_type\": \"\",\n        \"description\": \"\"\n      }\n    },\n    {\n      \"column\": \"Job\",\n      \"properties\": {\n        \"dtype\": \"category\",\n        \"num_unique_values\": 65,\n        \"samples\": [\n          \"Director at\\u00a0Grunnings\",\n          \"Professor\\u00a0of\\u00a0Arithmancyat\\u00a0Hogwarts\"\n        ],\n        \"semantic_type\": \"\",\n        \"description\": \"\"\n      }\n    },\n    {\n      \"column\": \"House\",\n      \"properties\": {\n        \"dtype\": \"category\",\n        \"num_unique_values\": 6,\n        \"samples\": [\n          \"Gryffindor\",\n          \"Ravenclaw\"\n        ],\n        \"semantic_type\": \"\",\n        \"description\": \"\"\n      }\n    },\n    {\n      \"column\": \"Wand\",\n      \"properties\": {\n        \"dtype\": \"category\",\n        \"num_unique_values\": 29,\n        \"samples\": [\n          \"10\\u00bc\\\", Hornbeam, dragon heartstring\",\n          \"12\\u00be\\\" Hornbeam dragon heartstring\"\n        ],\n        \"semantic_type\": \"\",\n        \"description\": \"\"\n      }\n    },\n    {\n      \"column\": \"Patronus\",\n      \"properties\": {\n        \"dtype\": \"category\",\n        \"num_unique_values\": 19,\n        \"samples\": [\n          \"Stag\",\n          \"Unknown\"\n        ],\n        \"semantic_type\": \"\",\n        \"description\": \"\"\n      }\n    },\n    {\n      \"column\": \"Species\",\n      \"properties\": {\n        \"dtype\": \"category\",\n        \"num_unique_values\": 10,\n        \"samples\": [\n          \"Human\\u00a0(Metamorphmagus)\",\n          \"Half-Human/Half-Giant\"\n        ],\n        \"semantic_type\": \"\",\n        \"description\": \"\"\n      }\n    },\n    {\n      \"column\": \"Blood status\",\n      \"properties\": {\n        \"dtype\": \"category\",\n        \"num_unique_values\": 15,\n        \"samples\": [\n          \"Muggle-born\\u00a0or\\u00a0half-blood[\",\n          \"Quarter-Veela\"\n        ],\n        \"semantic_type\": \"\",\n        \"description\": \"\"\n      }\n    },\n    {\n      \"column\": \"Hair colour\",\n      \"properties\": {\n        \"dtype\": \"category\",\n        \"num_unique_values\": 36,\n        \"samples\": [\n          \"Green\",\n          \"Reddish-blonde\"\n        ],\n        \"semantic_type\": \"\",\n        \"description\": \"\"\n      }\n    },\n    {\n      \"column\": \"Eye colour\",\n      \"properties\": {\n        \"dtype\": \"category\",\n        \"num_unique_values\": 25,\n        \"samples\": [\n          \"Dark\",\n          \"One dark,\\u00a0one electric blue\"\n        ],\n        \"semantic_type\": \"\",\n        \"description\": \"\"\n      }\n    },\n    {\n      \"column\": \"Loyalty\",\n      \"properties\": {\n        \"dtype\": \"category\",\n        \"num_unique_values\": 19,\n        \"samples\": [\n          \"Albus Dumbledore | Dumbledore's Army | Order of the Phoenix | Hogwarts School of Witchcraft and Wizardry\",\n          \"Lord Voldemort| Death Eaters\"\n        ],\n        \"semantic_type\": \"\",\n        \"description\": \"\"\n      }\n    },\n    {\n      \"column\": \"Skills\",\n      \"properties\": {\n        \"dtype\": \"string\",\n        \"num_unique_values\": 94,\n        \"samples\": [\n          \"Accomplished Occlumens, expert Potioneer, advanced self-transfiguration\",\n          \"Quidditch Keeper\"\n        ],\n        \"semantic_type\": \"\",\n        \"description\": \"\"\n      }\n    },\n    {\n      \"column\": \"Birth\",\n      \"properties\": {\n        \"dtype\": \"string\",\n        \"num_unique_values\": 112,\n        \"samples\": [\n          \"1978-1979\",\n          \"Before\\u00a01976\"\n        ],\n        \"semantic_type\": \"\",\n        \"description\": \"\"\n      }\n    },\n    {\n      \"column\": \"Death\",\n      \"properties\": {\n        \"dtype\": \"category\",\n        \"num_unique_values\": 25,\n        \"samples\": [\n          \"11th century\",\n          \"24 June,\\u00a01995\\u00a0\\u2013\\u00a031 July,\\u00a01996\"\n        ],\n        \"semantic_type\": \"\",\n        \"description\": \"\"\n      }\n    }\n  ]\n}"
            }
          },
          "metadata": {},
          "execution_count": 29
        }
      ]
    },
    {
      "cell_type": "code",
      "source": [],
      "metadata": {
        "id": "j1DUjjbXu7T-"
      },
      "execution_count": null,
      "outputs": []
    }
  ]
}